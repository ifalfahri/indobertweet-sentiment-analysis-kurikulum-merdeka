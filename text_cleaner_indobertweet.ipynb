{
  "nbformat": 4,
  "nbformat_minor": 0,
  "metadata": {
    "colab": {
      "provenance": [],
      "authorship_tag": "ABX9TyMv0/y1ItOaEfXDPiJDfiWM",
      "include_colab_link": true
    },
    "kernelspec": {
      "name": "python3",
      "display_name": "Python 3"
    },
    "language_info": {
      "name": "python"
    }
  },
  "cells": [
    {
      "cell_type": "markdown",
      "metadata": {
        "id": "view-in-github",
        "colab_type": "text"
      },
      "source": [
        "<a href=\"https://colab.research.google.com/github/ifalfahri/indobertweet-sentiment-analysis-kurikulum-merdeka/blob/main/text_cleaner_indobertweet.ipynb\" target=\"_parent\"><img src=\"https://colab.research.google.com/assets/colab-badge.svg\" alt=\"Open In Colab\"/></a>"
      ]
    },
    {
      "cell_type": "code",
      "source": [
        "!pip install emoji"
      ],
      "metadata": {
        "colab": {
          "base_uri": "https://localhost:8080/"
        },
        "id": "PE0V8KR-364X",
        "outputId": "d8b7a2b0-f78f-4b6f-ce02-75847a733d52"
      },
      "execution_count": 2,
      "outputs": [
        {
          "output_type": "stream",
          "name": "stdout",
          "text": [
            "Collecting emoji\n",
            "  Downloading emoji-2.14.0-py3-none-any.whl.metadata (5.7 kB)\n",
            "Downloading emoji-2.14.0-py3-none-any.whl (586 kB)\n",
            "\u001b[?25l   \u001b[90m━━━━━━━━━━━━━━━━━━━━━━━━━━━━━━━━━━━━━━━━\u001b[0m \u001b[32m0.0/586.9 kB\u001b[0m \u001b[31m?\u001b[0m eta \u001b[36m-:--:--\u001b[0m\r\u001b[2K   \u001b[91m━━━━━━━━━━━━━━━━━━━━━━━━━━━━━━━━━━━━━━━\u001b[0m\u001b[91m╸\u001b[0m \u001b[32m583.7/586.9 kB\u001b[0m \u001b[31m30.9 MB/s\u001b[0m eta \u001b[36m0:00:01\u001b[0m\r\u001b[2K   \u001b[90m━━━━━━━━━━━━━━━━━━━━━━━━━━━━━━━━━━━━━━━━\u001b[0m \u001b[32m586.9/586.9 kB\u001b[0m \u001b[31m15.9 MB/s\u001b[0m eta \u001b[36m0:00:00\u001b[0m\n",
            "\u001b[?25hInstalling collected packages: emoji\n",
            "Successfully installed emoji-2.14.0\n"
          ]
        }
      ]
    },
    {
      "cell_type": "code",
      "execution_count": 7,
      "metadata": {
        "id": "6sowus6O1j4h"
      },
      "outputs": [],
      "source": [
        "import pandas as pd\n",
        "import re\n",
        "import emoji\n",
        "import html"
      ]
    },
    {
      "cell_type": "code",
      "source": [
        "# Fungsi untuk menemukan URL dalam string\n",
        "def find_url(string):\n",
        "    regex = r\"(?i)\\b((?:https?://|www\\d{0,3}[.]|[a-z0-9.\\-]+[.][a-z]{2,4}/)(?:[^\\s()<>]+|\\(([^\\s()<>]+|(\\([^\\s()<>]+\\)))*\\))+(?:\\(([^\\s()<>]+|(\\([^\\s()<>]+\\)))*\\)|[^\\s`!()\\[\\]{};:'\\\".,<>?«»“”‘’]))\"\n",
        "    url = re.findall(regex,string)\n",
        "    return [x[0] for x in url]"
      ],
      "metadata": {
        "id": "fZkbsmoo34L9"
      },
      "execution_count": 4,
      "outputs": []
    },
    {
      "cell_type": "code",
      "source": [
        "# Preprocessing tweet\n",
        "def preprocess_tweet(tweet):\n",
        "    # Menghilangkan karakter HTML yang terenkode (contohnya &amp; menjadi &)\n",
        "    tweet = html.unescape(tweet)\n",
        "\n",
        "    # Mengubah semua teks menjadi huruf kecil dan mengonversi emoticon ke teks\n",
        "    tweet = emoji.demojize(tweet).lower()\n",
        "\n",
        "    # Mengganti mention dan URL dengan placeholder\n",
        "    new_tweet = []\n",
        "    for word in tweet.split():\n",
        "        # Jika kata dimulai dengan @ (mention)\n",
        "        if word[0] == '@' or word == '[username]':\n",
        "            new_tweet.append('@USER')\n",
        "        # Jika kata tersebut adalah URL\n",
        "        elif find_url(word) != []:\n",
        "            new_tweet.append('HTTPURL')\n",
        "        # Ganti string 'httpurl' atau '[url]' dengan 'HTTPURL'\n",
        "        elif word == 'httpurl' or word == '[url]':\n",
        "            new_tweet.append('HTTPURL')\n",
        "        else:\n",
        "            # Kata selain mention dan URL tetap dipertahankan\n",
        "            new_tweet.append(word)\n",
        "\n",
        "    return ' '.join(new_tweet)"
      ],
      "metadata": {
        "id": "AMviJFZY4QQx"
      },
      "execution_count": 5,
      "outputs": []
    },
    {
      "cell_type": "code",
      "source": [
        "# Membaca dataset CSV\n",
        "df = pd.read_csv('kurikulum-merdeka.csv')  # Gantilah dengan path file CSV Anda"
      ],
      "metadata": {
        "id": "JDPnwa7w4Tx6"
      },
      "execution_count": 14,
      "outputs": []
    },
    {
      "cell_type": "code",
      "source": [
        "# Memilih kolom teks saja dengan tanggal, atur sesuai selera\n",
        "df = df[['full_text', 'created_at']]"
      ],
      "metadata": {
        "id": "TFH8CTc38auH"
      },
      "execution_count": 15,
      "outputs": []
    },
    {
      "cell_type": "code",
      "source": [
        "# Melakukan preprocessing pada kolom 'full_text'\n",
        "df['processed_text'] = df['full_text'].apply(preprocess_tweet)"
      ],
      "metadata": {
        "id": "XIlQukK97hNp"
      },
      "execution_count": 16,
      "outputs": []
    },
    {
      "cell_type": "code",
      "source": [
        "# Hapus duplikasi\n",
        "\n",
        "initial_count = df.shape[0]  # Jumlah df awal\n",
        "df = df.drop_duplicates(subset=['processed_text'], keep='first')\n",
        "final_count = df.shape[0]  # Jumlah data setelah duplikasi dihapus\n",
        "\n",
        "# Menampilkan jumlah data yang dihapus\n",
        "print(f\"Jumlah data sebelum penghapusan duplikat: {initial_count}\")\n",
        "print(f\"Jumlah data setelah penghapusan duplikat: {final_count}\")\n",
        "print(f\"Jumlah data yang dihapus: {initial_count - final_count}\")"
      ],
      "metadata": {
        "colab": {
          "base_uri": "https://localhost:8080/"
        },
        "id": "kC66FdhY6u7x",
        "outputId": "1e24f32e-cb23-46ed-8ec6-90d8e78239a9"
      },
      "execution_count": 17,
      "outputs": [
        {
          "output_type": "stream",
          "name": "stdout",
          "text": [
            "Jumlah data sebelum penghapusan duplikat: 5964\n",
            "Jumlah data setelah penghapusan duplikat: 5752\n",
            "Jumlah data yang dihapus: 212\n"
          ]
        }
      ]
    },
    {
      "cell_type": "code",
      "source": [
        "# Menyimpan hasil ke file CSV baru\n",
        "df.to_csv('preprocessed-kurikulum-merdeka.csv', index=False)"
      ],
      "metadata": {
        "id": "HFSWypNX7rck"
      },
      "execution_count": 18,
      "outputs": []
    },
    {
      "cell_type": "code",
      "source": [
        "# Cek hasil\n",
        "df.head()"
      ],
      "metadata": {
        "colab": {
          "base_uri": "https://localhost:8080/",
          "height": 293
        },
        "id": "82fFEI4o8BHG",
        "outputId": "bf630515-c320-483a-cd71-1fae215f1f84"
      },
      "execution_count": 19,
      "outputs": [
        {
          "output_type": "execute_result",
          "data": {
            "text/plain": [
              "                                           full_text  \\\n",
              "0  Pemkot Targetkan Kurikulum Merdeka Terealisasi...   \n",
              "1  @rudyjatmiko @AlphaARachman @hnurwahid @Syaifu...   \n",
              "2  @motodobel @AlphaARachman @SyaifulHooda @DPR_R...   \n",
              "3   anak kelas 10 yang kurikulum merdeka itu nant...   \n",
              "4  Kepala Badan Standar Kurikulum dan Asesmen Pen...   \n",
              "\n",
              "                       created_at  \\\n",
              "0  Fri Dec 30 23:50:55 +0000 2022   \n",
              "1  Fri Dec 30 22:45:09 +0000 2022   \n",
              "2  Fri Dec 30 22:41:47 +0000 2022   \n",
              "3  Fri Dec 30 22:20:51 +0000 2022   \n",
              "4  Fri Dec 30 18:45:30 +0000 2022   \n",
              "\n",
              "                                      processed_text  \n",
              "0  pemkot targetkan kurikulum merdeka terealisasi...  \n",
              "1  @USER @USER @USER @USER @USER @USER @USER @USE...  \n",
              "2  @USER @USER @USER @USER @USER @USER @USER @USE...  \n",
              "3  anak kelas 10 yang kurikulum merdeka itu nanti...  \n",
              "4  kepala badan standar kurikulum dan asesmen pen...  "
            ],
            "text/html": [
              "\n",
              "  <div id=\"df-ae80c4cd-c1a2-467e-88c7-49ac056e79df\" class=\"colab-df-container\">\n",
              "    <div>\n",
              "<style scoped>\n",
              "    .dataframe tbody tr th:only-of-type {\n",
              "        vertical-align: middle;\n",
              "    }\n",
              "\n",
              "    .dataframe tbody tr th {\n",
              "        vertical-align: top;\n",
              "    }\n",
              "\n",
              "    .dataframe thead th {\n",
              "        text-align: right;\n",
              "    }\n",
              "</style>\n",
              "<table border=\"1\" class=\"dataframe\">\n",
              "  <thead>\n",
              "    <tr style=\"text-align: right;\">\n",
              "      <th></th>\n",
              "      <th>full_text</th>\n",
              "      <th>created_at</th>\n",
              "      <th>processed_text</th>\n",
              "    </tr>\n",
              "  </thead>\n",
              "  <tbody>\n",
              "    <tr>\n",
              "      <th>0</th>\n",
              "      <td>Pemkot Targetkan Kurikulum Merdeka Terealisasi...</td>\n",
              "      <td>Fri Dec 30 23:50:55 +0000 2022</td>\n",
              "      <td>pemkot targetkan kurikulum merdeka terealisasi...</td>\n",
              "    </tr>\n",
              "    <tr>\n",
              "      <th>1</th>\n",
              "      <td>@rudyjatmiko @AlphaARachman @hnurwahid @Syaifu...</td>\n",
              "      <td>Fri Dec 30 22:45:09 +0000 2022</td>\n",
              "      <td>@USER @USER @USER @USER @USER @USER @USER @USE...</td>\n",
              "    </tr>\n",
              "    <tr>\n",
              "      <th>2</th>\n",
              "      <td>@motodobel @AlphaARachman @SyaifulHooda @DPR_R...</td>\n",
              "      <td>Fri Dec 30 22:41:47 +0000 2022</td>\n",
              "      <td>@USER @USER @USER @USER @USER @USER @USER @USE...</td>\n",
              "    </tr>\n",
              "    <tr>\n",
              "      <th>3</th>\n",
              "      <td>anak kelas 10 yang kurikulum merdeka itu nant...</td>\n",
              "      <td>Fri Dec 30 22:20:51 +0000 2022</td>\n",
              "      <td>anak kelas 10 yang kurikulum merdeka itu nanti...</td>\n",
              "    </tr>\n",
              "    <tr>\n",
              "      <th>4</th>\n",
              "      <td>Kepala Badan Standar Kurikulum dan Asesmen Pen...</td>\n",
              "      <td>Fri Dec 30 18:45:30 +0000 2022</td>\n",
              "      <td>kepala badan standar kurikulum dan asesmen pen...</td>\n",
              "    </tr>\n",
              "  </tbody>\n",
              "</table>\n",
              "</div>\n",
              "    <div class=\"colab-df-buttons\">\n",
              "\n",
              "  <div class=\"colab-df-container\">\n",
              "    <button class=\"colab-df-convert\" onclick=\"convertToInteractive('df-ae80c4cd-c1a2-467e-88c7-49ac056e79df')\"\n",
              "            title=\"Convert this dataframe to an interactive table.\"\n",
              "            style=\"display:none;\">\n",
              "\n",
              "  <svg xmlns=\"http://www.w3.org/2000/svg\" height=\"24px\" viewBox=\"0 -960 960 960\">\n",
              "    <path d=\"M120-120v-720h720v720H120Zm60-500h600v-160H180v160Zm220 220h160v-160H400v160Zm0 220h160v-160H400v160ZM180-400h160v-160H180v160Zm440 0h160v-160H620v160ZM180-180h160v-160H180v160Zm440 0h160v-160H620v160Z\"/>\n",
              "  </svg>\n",
              "    </button>\n",
              "\n",
              "  <style>\n",
              "    .colab-df-container {\n",
              "      display:flex;\n",
              "      gap: 12px;\n",
              "    }\n",
              "\n",
              "    .colab-df-convert {\n",
              "      background-color: #E8F0FE;\n",
              "      border: none;\n",
              "      border-radius: 50%;\n",
              "      cursor: pointer;\n",
              "      display: none;\n",
              "      fill: #1967D2;\n",
              "      height: 32px;\n",
              "      padding: 0 0 0 0;\n",
              "      width: 32px;\n",
              "    }\n",
              "\n",
              "    .colab-df-convert:hover {\n",
              "      background-color: #E2EBFA;\n",
              "      box-shadow: 0px 1px 2px rgba(60, 64, 67, 0.3), 0px 1px 3px 1px rgba(60, 64, 67, 0.15);\n",
              "      fill: #174EA6;\n",
              "    }\n",
              "\n",
              "    .colab-df-buttons div {\n",
              "      margin-bottom: 4px;\n",
              "    }\n",
              "\n",
              "    [theme=dark] .colab-df-convert {\n",
              "      background-color: #3B4455;\n",
              "      fill: #D2E3FC;\n",
              "    }\n",
              "\n",
              "    [theme=dark] .colab-df-convert:hover {\n",
              "      background-color: #434B5C;\n",
              "      box-shadow: 0px 1px 3px 1px rgba(0, 0, 0, 0.15);\n",
              "      filter: drop-shadow(0px 1px 2px rgba(0, 0, 0, 0.3));\n",
              "      fill: #FFFFFF;\n",
              "    }\n",
              "  </style>\n",
              "\n",
              "    <script>\n",
              "      const buttonEl =\n",
              "        document.querySelector('#df-ae80c4cd-c1a2-467e-88c7-49ac056e79df button.colab-df-convert');\n",
              "      buttonEl.style.display =\n",
              "        google.colab.kernel.accessAllowed ? 'block' : 'none';\n",
              "\n",
              "      async function convertToInteractive(key) {\n",
              "        const element = document.querySelector('#df-ae80c4cd-c1a2-467e-88c7-49ac056e79df');\n",
              "        const dataTable =\n",
              "          await google.colab.kernel.invokeFunction('convertToInteractive',\n",
              "                                                    [key], {});\n",
              "        if (!dataTable) return;\n",
              "\n",
              "        const docLinkHtml = 'Like what you see? Visit the ' +\n",
              "          '<a target=\"_blank\" href=https://colab.research.google.com/notebooks/data_table.ipynb>data table notebook</a>'\n",
              "          + ' to learn more about interactive tables.';\n",
              "        element.innerHTML = '';\n",
              "        dataTable['output_type'] = 'display_data';\n",
              "        await google.colab.output.renderOutput(dataTable, element);\n",
              "        const docLink = document.createElement('div');\n",
              "        docLink.innerHTML = docLinkHtml;\n",
              "        element.appendChild(docLink);\n",
              "      }\n",
              "    </script>\n",
              "  </div>\n",
              "\n",
              "\n",
              "<div id=\"df-f30c7030-858a-49d5-9b9a-71f998a4e8a7\">\n",
              "  <button class=\"colab-df-quickchart\" onclick=\"quickchart('df-f30c7030-858a-49d5-9b9a-71f998a4e8a7')\"\n",
              "            title=\"Suggest charts\"\n",
              "            style=\"display:none;\">\n",
              "\n",
              "<svg xmlns=\"http://www.w3.org/2000/svg\" height=\"24px\"viewBox=\"0 0 24 24\"\n",
              "     width=\"24px\">\n",
              "    <g>\n",
              "        <path d=\"M19 3H5c-1.1 0-2 .9-2 2v14c0 1.1.9 2 2 2h14c1.1 0 2-.9 2-2V5c0-1.1-.9-2-2-2zM9 17H7v-7h2v7zm4 0h-2V7h2v10zm4 0h-2v-4h2v4z\"/>\n",
              "    </g>\n",
              "</svg>\n",
              "  </button>\n",
              "\n",
              "<style>\n",
              "  .colab-df-quickchart {\n",
              "      --bg-color: #E8F0FE;\n",
              "      --fill-color: #1967D2;\n",
              "      --hover-bg-color: #E2EBFA;\n",
              "      --hover-fill-color: #174EA6;\n",
              "      --disabled-fill-color: #AAA;\n",
              "      --disabled-bg-color: #DDD;\n",
              "  }\n",
              "\n",
              "  [theme=dark] .colab-df-quickchart {\n",
              "      --bg-color: #3B4455;\n",
              "      --fill-color: #D2E3FC;\n",
              "      --hover-bg-color: #434B5C;\n",
              "      --hover-fill-color: #FFFFFF;\n",
              "      --disabled-bg-color: #3B4455;\n",
              "      --disabled-fill-color: #666;\n",
              "  }\n",
              "\n",
              "  .colab-df-quickchart {\n",
              "    background-color: var(--bg-color);\n",
              "    border: none;\n",
              "    border-radius: 50%;\n",
              "    cursor: pointer;\n",
              "    display: none;\n",
              "    fill: var(--fill-color);\n",
              "    height: 32px;\n",
              "    padding: 0;\n",
              "    width: 32px;\n",
              "  }\n",
              "\n",
              "  .colab-df-quickchart:hover {\n",
              "    background-color: var(--hover-bg-color);\n",
              "    box-shadow: 0 1px 2px rgba(60, 64, 67, 0.3), 0 1px 3px 1px rgba(60, 64, 67, 0.15);\n",
              "    fill: var(--button-hover-fill-color);\n",
              "  }\n",
              "\n",
              "  .colab-df-quickchart-complete:disabled,\n",
              "  .colab-df-quickchart-complete:disabled:hover {\n",
              "    background-color: var(--disabled-bg-color);\n",
              "    fill: var(--disabled-fill-color);\n",
              "    box-shadow: none;\n",
              "  }\n",
              "\n",
              "  .colab-df-spinner {\n",
              "    border: 2px solid var(--fill-color);\n",
              "    border-color: transparent;\n",
              "    border-bottom-color: var(--fill-color);\n",
              "    animation:\n",
              "      spin 1s steps(1) infinite;\n",
              "  }\n",
              "\n",
              "  @keyframes spin {\n",
              "    0% {\n",
              "      border-color: transparent;\n",
              "      border-bottom-color: var(--fill-color);\n",
              "      border-left-color: var(--fill-color);\n",
              "    }\n",
              "    20% {\n",
              "      border-color: transparent;\n",
              "      border-left-color: var(--fill-color);\n",
              "      border-top-color: var(--fill-color);\n",
              "    }\n",
              "    30% {\n",
              "      border-color: transparent;\n",
              "      border-left-color: var(--fill-color);\n",
              "      border-top-color: var(--fill-color);\n",
              "      border-right-color: var(--fill-color);\n",
              "    }\n",
              "    40% {\n",
              "      border-color: transparent;\n",
              "      border-right-color: var(--fill-color);\n",
              "      border-top-color: var(--fill-color);\n",
              "    }\n",
              "    60% {\n",
              "      border-color: transparent;\n",
              "      border-right-color: var(--fill-color);\n",
              "    }\n",
              "    80% {\n",
              "      border-color: transparent;\n",
              "      border-right-color: var(--fill-color);\n",
              "      border-bottom-color: var(--fill-color);\n",
              "    }\n",
              "    90% {\n",
              "      border-color: transparent;\n",
              "      border-bottom-color: var(--fill-color);\n",
              "    }\n",
              "  }\n",
              "</style>\n",
              "\n",
              "  <script>\n",
              "    async function quickchart(key) {\n",
              "      const quickchartButtonEl =\n",
              "        document.querySelector('#' + key + ' button');\n",
              "      quickchartButtonEl.disabled = true;  // To prevent multiple clicks.\n",
              "      quickchartButtonEl.classList.add('colab-df-spinner');\n",
              "      try {\n",
              "        const charts = await google.colab.kernel.invokeFunction(\n",
              "            'suggestCharts', [key], {});\n",
              "      } catch (error) {\n",
              "        console.error('Error during call to suggestCharts:', error);\n",
              "      }\n",
              "      quickchartButtonEl.classList.remove('colab-df-spinner');\n",
              "      quickchartButtonEl.classList.add('colab-df-quickchart-complete');\n",
              "    }\n",
              "    (() => {\n",
              "      let quickchartButtonEl =\n",
              "        document.querySelector('#df-f30c7030-858a-49d5-9b9a-71f998a4e8a7 button');\n",
              "      quickchartButtonEl.style.display =\n",
              "        google.colab.kernel.accessAllowed ? 'block' : 'none';\n",
              "    })();\n",
              "  </script>\n",
              "</div>\n",
              "\n",
              "    </div>\n",
              "  </div>\n"
            ],
            "application/vnd.google.colaboratory.intrinsic+json": {
              "type": "dataframe",
              "variable_name": "df",
              "summary": "{\n  \"name\": \"df\",\n  \"rows\": 5752,\n  \"fields\": [\n    {\n      \"column\": \"full_text\",\n      \"properties\": {\n        \"dtype\": \"string\",\n        \"num_unique_values\": 5752,\n        \"samples\": [\n          \"@schfess Sumpah y gua jd kurang setuju sm kurikulum merdeka tu Krn ini anjj\",\n          \"@opposite6892 Akibat kurikulum merdeka si nadiem ojol nih \",\n          \"Download Modul Ajar Kelas 7 IPA Bab 5 Subbab A Makhluk Hidup atau Benda Mati? Kurikulum Merdeka Semester 2 https://t.co/XFV9U2jAKw lewat @tribunnews\"\n        ],\n        \"semantic_type\": \"\",\n        \"description\": \"\"\n      }\n    },\n    {\n      \"column\": \"created_at\",\n      \"properties\": {\n        \"dtype\": \"object\",\n        \"num_unique_values\": 5734,\n        \"samples\": [\n          \"Thu Oct 24 18:03:11 +0000 2024\",\n          \"Tue Oct 22 17:45:57 +0000 2024\",\n          \"Sun Oct 20 05:51:03 +0000 2024\"\n        ],\n        \"semantic_type\": \"\",\n        \"description\": \"\"\n      }\n    },\n    {\n      \"column\": \"processed_text\",\n      \"properties\": {\n        \"dtype\": \"string\",\n        \"num_unique_values\": 5752,\n        \"samples\": [\n          \"@USER sumpah y gua jd kurang setuju sm kurikulum merdeka tu krn ini anjj\",\n          \"@USER akibat kurikulum merdeka si nadiem ojol nih\",\n          \"download modul ajar kelas 7 ipa bab 5 subbab a makhluk hidup atau benda mati? kurikulum merdeka semester 2 HTTPURL lewat @USER\"\n        ],\n        \"semantic_type\": \"\",\n        \"description\": \"\"\n      }\n    }\n  ]\n}"
            }
          },
          "metadata": {},
          "execution_count": 19
        }
      ]
    }
  ]
}